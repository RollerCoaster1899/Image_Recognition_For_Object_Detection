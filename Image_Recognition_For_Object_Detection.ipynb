{
  "cells": [
    {
      "cell_type": "code",
      "execution_count": 1,
      "id": "60c97b0c-b228-4149-ad49-1e7d155f07b0",
      "metadata": {
        "tags": [],
        "colab": {
          "base_uri": "https://localhost:8080/"
        },
        "id": "60c97b0c-b228-4149-ad49-1e7d155f07b0",
        "outputId": "3cb69922-6577-46e7-876c-c5ae73edfd0c"
      },
      "outputs": [
        {
          "output_type": "stream",
          "name": "stdout",
          "text": [
            "Collecting keras-tuner\n",
            "  Downloading keras_tuner-1.3.5-py3-none-any.whl (176 kB)\n",
            "\u001b[2K     \u001b[90m━━━━━━━━━━━━━━━━━━━━━━━━━━━━━━━━━━━━━━━\u001b[0m \u001b[32m176.1/176.1 kB\u001b[0m \u001b[31m1.4 MB/s\u001b[0m eta \u001b[36m0:00:00\u001b[0m\n",
            "\u001b[?25hRequirement already satisfied: packaging in /usr/local/lib/python3.10/dist-packages (from keras-tuner) (23.1)\n",
            "Requirement already satisfied: requests in /usr/local/lib/python3.10/dist-packages (from keras-tuner) (2.27.1)\n",
            "Collecting kt-legacy (from keras-tuner)\n",
            "  Downloading kt_legacy-1.0.5-py3-none-any.whl (9.6 kB)\n",
            "Requirement already satisfied: urllib3<1.27,>=1.21.1 in /usr/local/lib/python3.10/dist-packages (from requests->keras-tuner) (1.26.16)\n",
            "Requirement already satisfied: certifi>=2017.4.17 in /usr/local/lib/python3.10/dist-packages (from requests->keras-tuner) (2023.5.7)\n",
            "Requirement already satisfied: charset-normalizer~=2.0.0 in /usr/local/lib/python3.10/dist-packages (from requests->keras-tuner) (2.0.12)\n",
            "Requirement already satisfied: idna<4,>=2.5 in /usr/local/lib/python3.10/dist-packages (from requests->keras-tuner) (3.4)\n",
            "Installing collected packages: kt-legacy, keras-tuner\n",
            "Successfully installed keras-tuner-1.3.5 kt-legacy-1.0.5\n"
          ]
        }
      ],
      "source": [
        "!pip install keras-tuner"
      ]
    },
    {
      "cell_type": "code",
      "execution_count": 2,
      "id": "54267db6-7434-466a-8016-6adf6e7ad0ad",
      "metadata": {
        "tags": [],
        "colab": {
          "base_uri": "https://localhost:8080/"
        },
        "id": "54267db6-7434-466a-8016-6adf6e7ad0ad",
        "outputId": "0c6aecbd-d57f-4994-b97a-954c8f1cda57"
      },
      "outputs": [
        {
          "output_type": "stream",
          "name": "stderr",
          "text": [
            "<ipython-input-2-d1db268a5ed1>:8: DeprecationWarning: `import kerastuner` is deprecated, please use `import keras_tuner`.\n",
            "  from kerastuner.tuners import RandomSearch\n"
          ]
        }
      ],
      "source": [
        "import tensorflow as tf\n",
        "from tensorflow.keras.datasets import mnist\n",
        "from tensorflow.keras.models import Sequential\n",
        "from tensorflow.keras.layers import Conv2D, MaxPooling2D, Flatten, Dense, Dropout, BatchNormalization\n",
        "from tensorflow.keras.utils import to_categorical\n",
        "from tensorflow.keras.callbacks import ModelCheckpoint, EarlyStopping, ReduceLROnPlateau\n",
        "import matplotlib.pyplot as plt\n",
        "from kerastuner.tuners import RandomSearch"
      ]
    },
    {
      "cell_type": "code",
      "execution_count": 3,
      "id": "86212bd6-c736-4c21-9d75-aaedd835fc4d",
      "metadata": {
        "tags": [],
        "colab": {
          "base_uri": "https://localhost:8080/"
        },
        "id": "86212bd6-c736-4c21-9d75-aaedd835fc4d",
        "outputId": "39126066-e6b9-4f37-f2ac-e340af3cb693"
      },
      "outputs": [
        {
          "output_type": "stream",
          "name": "stdout",
          "text": [
            "Downloading data from https://storage.googleapis.com/tensorflow/tf-keras-datasets/mnist.npz\n",
            "11490434/11490434 [==============================] - 0s 0us/step\n"
          ]
        }
      ],
      "source": [
        "# Load and preprocess the MNIST dataset\n",
        "(train_images, train_labels), (test_images, test_labels) = mnist.load_data()\n",
        "\n",
        "# Normalize the pixel values to range [0, 1] and reshape for CNN\n",
        "train_images = train_images.reshape(-1, 28, 28, 1).astype('float32') / 255.0\n",
        "test_images = test_images.reshape(-1, 28, 28, 1).astype('float32') / 255.0\n",
        "\n",
        "# One-hot encode the labels\n",
        "train_labels = to_categorical(train_labels, num_classes=10)\n",
        "test_labels = to_categorical(test_labels, num_classes=10)"
      ]
    },
    {
      "cell_type": "code",
      "execution_count": 4,
      "id": "dfc47087-5e88-468e-a4a8-848a36cd995e",
      "metadata": {
        "tags": [],
        "id": "dfc47087-5e88-468e-a4a8-848a36cd995e"
      },
      "outputs": [],
      "source": [
        "# Define the CNN model function for hyperparameter tuning\n",
        "def build_model(hp):\n",
        "    model = Sequential()\n",
        "    model.add(Conv2D(hp.Int('conv_1_filters', min_value=32, max_value=128, step=32),\n",
        "                     kernel_size=(3, 3), activation='relu', input_shape=(28, 28, 1)))\n",
        "    model.add(BatchNormalization())\n",
        "    model.add(MaxPooling2D(pool_size=(2, 2)))\n",
        "    model.add(Dropout(hp.Float('dropout_1', min_value=0.25, max_value=0.5, step=0.25)))\n",
        "\n",
        "    model.add(Conv2D(hp.Int('conv_2_filters', min_value=64, max_value=128, step=32),\n",
        "                     kernel_size=(3, 3), activation='relu'))\n",
        "    model.add(BatchNormalization())\n",
        "    model.add(MaxPooling2D(pool_size=(2, 2)))\n",
        "    model.add(Dropout(hp.Float('dropout_2', min_value=0.25, max_value=0.5, step=0.25)))\n",
        "\n",
        "    model.add(Flatten())\n",
        "    model.add(Dense(hp.Int('dense_1_units', min_value=64, max_value=256, step=64), activation='relu'))\n",
        "    model.add(Dropout(hp.Float('dropout_3', min_value=0.25, max_value=0.5, step=0.25)))\n",
        "    model.add(Dense(10, activation='softmax'))  # Output layer with 10 units for 10 digits\n",
        "\n",
        "    # Compile the model\n",
        "    model.compile(optimizer='adam',\n",
        "                  loss='categorical_crossentropy',\n",
        "                  metrics=['accuracy'])\n",
        "    return model"
      ]
    },
    {
      "cell_type": "code",
      "execution_count": 5,
      "id": "5fa2e1b4-cbf8-42ac-ae00-8f57f675fd85",
      "metadata": {
        "tags": [],
        "id": "5fa2e1b4-cbf8-42ac-ae00-8f57f675fd85"
      },
      "outputs": [],
      "source": [
        "# Define callbacks\n",
        "checkpoint = ModelCheckpoint(\"best_model.h5\", monitor='val_accuracy', verbose=1, save_best_only=True)\n",
        "early_stop = EarlyStopping(monitor='val_loss', patience=5, restore_best_weights=True)\n",
        "reduce_lr = ReduceLROnPlateau(monitor='val_loss', factor=0.2, patience=3, min_lr=1e-6)"
      ]
    },
    {
      "cell_type": "code",
      "execution_count": 6,
      "id": "f9f3d90e-80b1-4cb7-9631-f37da4e24705",
      "metadata": {
        "tags": [],
        "colab": {
          "base_uri": "https://localhost:8080/"
        },
        "id": "f9f3d90e-80b1-4cb7-9631-f37da4e24705",
        "outputId": "e740f53a-d45b-49cb-bcf9-13e466dfa159"
      },
      "outputs": [
        {
          "output_type": "stream",
          "name": "stdout",
          "text": [
            "Trial 5 Complete [00h 03m 08s]\n",
            "val_accuracy: 0.9961666464805603\n",
            "\n",
            "Best val_accuracy So Far: 0.9961666464805603\n",
            "Total elapsed time: 00h 18m 00s\n"
          ]
        }
      ],
      "source": [
        "# Hyperparameter optimization using Random Search\n",
        "tuner = RandomSearch(\n",
        "    build_model,\n",
        "    objective='val_accuracy',\n",
        "    max_trials=5,  # Number of hyperparameter combinations to try\n",
        "    executions_per_trial=1,\n",
        "    directory='random_search',\n",
        "    project_name='mnist_tuning'\n",
        ")\n",
        "\n",
        "# Search for the best hyperparameters\n",
        "tuner.search(train_images, train_labels, epochs=20, validation_split=0.1, callbacks=[early_stop, reduce_lr])"
      ]
    },
    {
      "cell_type": "code",
      "execution_count": 7,
      "id": "c7a59a7d-dc9c-416a-aed6-63067c30065f",
      "metadata": {
        "tags": [],
        "colab": {
          "base_uri": "https://localhost:8080/"
        },
        "id": "c7a59a7d-dc9c-416a-aed6-63067c30065f",
        "outputId": "4c26d1ba-4dc4-4dff-9ffd-485e7804ca7f"
      },
      "outputs": [
        {
          "output_type": "stream",
          "name": "stdout",
          "text": [
            "Results summary\n",
            "Results in random_search/mnist_tuning\n",
            "Showing 10 best trials\n",
            "Objective(name=\"val_accuracy\", direction=\"max\")\n",
            "\n",
            "Trial 4 summary\n",
            "Hyperparameters:\n",
            "conv_1_filters: 32\n",
            "dropout_1: 0.25\n",
            "conv_2_filters: 64\n",
            "dropout_2: 0.5\n",
            "dense_1_units: 256\n",
            "dropout_3: 0.25\n",
            "Score: 0.9961666464805603\n",
            "\n",
            "Trial 1 summary\n",
            "Hyperparameters:\n",
            "conv_1_filters: 128\n",
            "dropout_1: 0.5\n",
            "conv_2_filters: 128\n",
            "dropout_2: 0.25\n",
            "dense_1_units: 256\n",
            "dropout_3: 0.25\n",
            "Score: 0.9953333139419556\n",
            "\n",
            "Trial 2 summary\n",
            "Hyperparameters:\n",
            "conv_1_filters: 64\n",
            "dropout_1: 0.25\n",
            "conv_2_filters: 64\n",
            "dropout_2: 0.25\n",
            "dense_1_units: 256\n",
            "dropout_3: 0.25\n",
            "Score: 0.9946666955947876\n",
            "\n",
            "Trial 0 summary\n",
            "Hyperparameters:\n",
            "conv_1_filters: 64\n",
            "dropout_1: 0.5\n",
            "conv_2_filters: 128\n",
            "dropout_2: 0.5\n",
            "dense_1_units: 64\n",
            "dropout_3: 0.25\n",
            "Score: 0.9934999942779541\n",
            "\n",
            "Trial 3 summary\n",
            "Hyperparameters:\n",
            "conv_1_filters: 128\n",
            "dropout_1: 0.25\n",
            "conv_2_filters: 96\n",
            "dropout_2: 0.25\n",
            "dense_1_units: 64\n",
            "dropout_3: 0.5\n",
            "Score: 0.9929999709129333\n",
            "Epoch 1/100\n",
            "422/422 [==============================] - ETA: 0s - loss: 0.0131 - accuracy: 0.9956\n",
            "Epoch 1: val_accuracy improved from -inf to 0.99567, saving model to best_model.h5\n",
            "422/422 [==============================] - 6s 8ms/step - loss: 0.0131 - accuracy: 0.9956 - val_loss: 0.0244 - val_accuracy: 0.9957 - lr: 2.0000e-04\n",
            "Epoch 2/100\n",
            "417/422 [============================>.] - ETA: 0s - loss: 0.0141 - accuracy: 0.9958\n",
            "Epoch 2: val_accuracy did not improve from 0.99567\n",
            "422/422 [==============================] - 3s 8ms/step - loss: 0.0142 - accuracy: 0.9957 - val_loss: 0.0237 - val_accuracy: 0.9955 - lr: 2.0000e-04\n",
            "Epoch 3/100\n",
            "419/422 [============================>.] - ETA: 0s - loss: 0.0145 - accuracy: 0.9954\n",
            "Epoch 3: val_accuracy did not improve from 0.99567\n",
            "422/422 [==============================] - 3s 7ms/step - loss: 0.0145 - accuracy: 0.9954 - val_loss: 0.0241 - val_accuracy: 0.9957 - lr: 2.0000e-04\n",
            "Epoch 4/100\n",
            "422/422 [==============================] - ETA: 0s - loss: 0.0120 - accuracy: 0.9957\n",
            "Epoch 4: val_accuracy did not improve from 0.99567\n",
            "422/422 [==============================] - 3s 7ms/step - loss: 0.0120 - accuracy: 0.9957 - val_loss: 0.0254 - val_accuracy: 0.9955 - lr: 2.0000e-04\n",
            "Epoch 5/100\n",
            "418/422 [============================>.] - ETA: 0s - loss: 0.0130 - accuracy: 0.9956\n",
            "Epoch 5: val_accuracy improved from 0.99567 to 0.99583, saving model to best_model.h5\n",
            "422/422 [==============================] - 3s 7ms/step - loss: 0.0131 - accuracy: 0.9956 - val_loss: 0.0242 - val_accuracy: 0.9958 - lr: 2.0000e-04\n",
            "Epoch 6/100\n",
            "420/422 [============================>.] - ETA: 0s - loss: 0.0118 - accuracy: 0.9959\n",
            "Epoch 6: val_accuracy did not improve from 0.99583\n",
            "422/422 [==============================] - 3s 8ms/step - loss: 0.0118 - accuracy: 0.9959 - val_loss: 0.0244 - val_accuracy: 0.9957 - lr: 4.0000e-05\n",
            "Epoch 7/100\n",
            "419/422 [============================>.] - ETA: 0s - loss: 0.0127 - accuracy: 0.9959\n",
            "Epoch 7: val_accuracy did not improve from 0.99583\n",
            "422/422 [==============================] - 3s 7ms/step - loss: 0.0126 - accuracy: 0.9959 - val_loss: 0.0243 - val_accuracy: 0.9953 - lr: 4.0000e-05\n"
          ]
        },
        {
          "output_type": "execute_result",
          "data": {
            "text/plain": [
              "<keras.callbacks.History at 0x7b355a954190>"
            ]
          },
          "metadata": {},
          "execution_count": 7
        }
      ],
      "source": [
        "# Get the best model and summary of search results\n",
        "best_model = tuner.get_best_models(num_models=1)[0]\n",
        "tuner.results_summary()\n",
        "\n",
        "# Train the best model\n",
        "best_model.fit(train_images, train_labels, batch_size=128, epochs=100, validation_split=0.1, callbacks=[checkpoint, early_stop, reduce_lr])"
      ]
    },
    {
      "cell_type": "code",
      "execution_count": 8,
      "id": "16dd96d2-3e0c-4749-a6f6-f4b4b88f1f66",
      "metadata": {
        "tags": [],
        "colab": {
          "base_uri": "https://localhost:8080/"
        },
        "id": "16dd96d2-3e0c-4749-a6f6-f4b4b88f1f66",
        "outputId": "fcf819f1-7f23-4a6d-f4f8-244848bfd94f"
      },
      "outputs": [
        {
          "output_type": "stream",
          "name": "stdout",
          "text": [
            "313/313 [==============================] - 1s 3ms/step - loss: 0.0232 - accuracy: 0.9940\n",
            "Test accuracy of the best model: 0.9940000176429749\n"
          ]
        }
      ],
      "source": [
        "# Evaluate the best model on the test set\n",
        "test_loss, test_acc = best_model.evaluate(test_images, test_labels)\n",
        "print(f'Test accuracy of the best model: {test_acc}')"
      ]
    },
    {
      "cell_type": "code",
      "execution_count": 9,
      "id": "7a918356-19d5-4688-8590-fc95661fe88b",
      "metadata": {
        "tags": [],
        "colab": {
          "base_uri": "https://localhost:8080/",
          "height": 344
        },
        "id": "7a918356-19d5-4688-8590-fc95661fe88b",
        "outputId": "c0e6e0c4-05b9-4653-9c41-924db715aba0"
      },
      "outputs": [
        {
          "output_type": "display_data",
          "data": {
            "text/plain": [
              "<Figure size 800x400 with 32 Axes>"
            ],
            "image/png": "[encoded data removed]"
          },
          "metadata": {}
        }
      ],
      "source": [
        "# Visualize filters learned by the first convolutional layer\n",
        "first_layer_weights = best_model.layers[0].get_weights()[0]\n",
        "plt.figure(figsize=(8, 4))\n",
        "for i in range(32):\n",
        "    plt.subplot(4, 8, i+1)\n",
        "    plt.imshow(first_layer_weights[:, :, 0, i], cmap='gray')\n",
        "    plt.axis('off')\n",
        "plt.show()"
      ]
    }
  ],
  "metadata": {
    "kernelspec": {
      "display_name": "Python 3",
      "name": "python3"
    },
    "language_info": {
      "codemirror_mode": {
        "name": "ipython",
        "version": 3
      },
      "file_extension": ".py",
      "mimetype": "text/x-python",
      "name": "python",
      "nbconvert_exporter": "python",
      "pygments_lexer": "ipython3",
      "version": "3.10.9"
    },
    "colab": {
      "provenance": [],
      "gpuType": "T4"
    },
    "accelerator": "GPU"
  },
  "nbformat": 4,
  "nbformat_minor": 5
}